{
  "cells": [
    {
      "cell_type": "markdown",
      "metadata": {
        "id": "kuC3qgG4im7d"
      },
      "source": [
        "# Calculo Numérico\n",
        "## Sistemas Lineares e Interpolação\n",
        "Kauê Sales Barbosa de Sousa"
      ]
    },
    {
      "cell_type": "code",
      "execution_count": 1,
      "metadata": {
        "id": "DKN0u5jYnQQt"
      },
      "outputs": [],
      "source": [
        "import numpy as np\n",
        "import time\n",
        "import matplotlib.pyplot as plt"
      ]
    },
    {
      "cell_type": "markdown",
      "metadata": {
        "id": "LRvo48hxi8RD"
      },
      "source": [
        "## Parte 1: Sistemas Lineares\n",
        "\n",
        "Implemente em Python as seguintes funções:\n",
        "\n",
        "- eliminacao_gaussiana(A, b): Eliminação Gaussiana com pivoteamento parcial.\n",
        "- jacobi(A, b, x0, tol, max_iter): Método de Jacobi.\n",
        "- gauss_seidel(A, b, x0, tol, max_iter): Método de Gauss-Seidel.\n",
        "\n",
        "Considerando que:\n",
        "\n",
        "- A é a matriz dos coeficientes.\n",
        "- b é o vetor de termos independentes.\n",
        "- x0 é o chute inicial (para métodos iterativos).\n",
        "- tol é a tolerância para o critério de parada (norma do resíduo).\n",
        "- max_iter é o número máximo de iterações."
      ]
    },
    {
      "cell_type": "markdown",
      "metadata": {
        "id": "nN7zT0tMnL60"
      },
      "source": [
        "### Construção do sistema"
      ]
    },
    {
      "cell_type": "code",
      "execution_count": null,
      "metadata": {
        "id": "iYy0-9qhnLIb"
      },
      "outputs": [],
      "source": [
        "def gerar_matriz_diagonalmente_dominante(n, seed=None):\n",
        "    if seed is not None:\n",
        "        np.random.seed(seed)\n",
        "\n",
        "    A = np.random.rand(n, n) * 10\n",
        "    for i in range(n):\n",
        "        row_sum = sum(abs(A[i][j]) for j in range(n) if j != i)\n",
        "        A[i][i] = row_sum + np.random.rand() * 10 + 1  # Para garantir dominância\n",
        "    return A\n",
        "\n",
        "def gerar_sistema(n, seed=None):\n",
        "    A = gerar_matriz_diagonalmente_dominante(n, seed=seed)\n",
        "    x_true = np.random.rand(n)\n",
        "    b = np.dot(A, x_true)\n",
        "    return A, b, x_true\n",
        "\n",
        "def matriz_diagonalmente_dominante(A):\n",
        "    \"\"\"\n",
        "    Verifica se a matriz A é diagonalmente dominante por linhas.\n",
        "    \"\"\"\n",
        "    n = A.shape[0]\n",
        "    for i in range(n):\n",
        "        soma = np.sum(np.abs(A[i])) - np.abs(A[i][i])\n",
        "        if np.abs(A[i][i]) < soma:\n",
        "            return False\n",
        "    return True\n"
      ]
    },
    {
      "cell_type": "code",
      "execution_count": 3,
      "metadata": {
        "id": "zj1WCAPineSc"
      },
      "outputs": [],
      "source": [
        "# Gerar sistemas para n = 5, 50, 500\n",
        "sizes = [5, 50, 500]\n",
        "systems = {}\n",
        "\n",
        "for i, size in enumerate(sizes):\n",
        "    A, b, x_true = gerar_sistema(size, seed=42 + i)\n",
        "    systems[size] = {\n",
        "        'A': A,\n",
        "        'b': b,\n",
        "        'x_true': x_true\n",
        "    }"
      ]
    },
    {
      "cell_type": "markdown",
      "metadata": {
        "id": "wyoNz2vYjnEs"
      },
      "source": [
        "### Eliminação Gaussiana"
      ]
    },
    {
      "cell_type": "code",
      "execution_count": null,
      "metadata": {
        "id": "BYwpSriLieh4"
      },
      "outputs": [],
      "source": [
        "import numpy as np\n",
        "\n",
        "def eliminacao_gaussiana(A, b):\n",
        "    \"\"\"\n",
        "    Resolve o sistema linear Ax = b usando eliminação de Gauss (sem pivoteamento).\n",
        "    \"\"\"\n",
        "    A = A.astype(float) \n",
        "    b = b.astype(float)\n",
        "    n = len(b)\n",
        "\n",
        "    # Etapa de eliminação\n",
        "    for i in range(n):\n",
        "        # Verifica se o pivô é zero (sem pivoteamento neste caso)\n",
        "        if A[i][i] == 0:\n",
        "            raise ValueError(\"Pivô zero encontrado. Pivoteamento necessário.\")\n",
        "\n",
        "        for j in range(i + 1, n):\n",
        "            fator = A[j][i] / A[i][i]\n",
        "            A[j, i:] = A[j, i:] - fator * A[i, i:]\n",
        "            b[j] = b[j] - fator * b[i]\n",
        "\n",
        "    # Etapa de substituição regressiva\n",
        "    x = np.zeros(n)\n",
        "    for i in range(n - 1, -1, -1):\n",
        "        soma = sum(A[i][j] * x[j] for j in range(i + 1, n))\n",
        "        x[i] = (b[i] - soma) / A[i][i]\n",
        "\n",
        "    return x"
      ]
    },
    {
      "cell_type": "code",
      "execution_count": null,
      "metadata": {
        "colab": {
          "base_uri": "https://localhost:8080/"
        },
        "id": "8_JutRUKpcAR",
        "outputId": "fb30ef4c-3ef1-4172-8c60-e2ccfd890fab"
      },
      "outputs": [
        {
          "name": "stdout",
          "output_type": "stream",
          "text": [
            "============================================================\n",
            "Comparação: Eliminação Gaussiana vs Solução Exata (numpy)\n",
            "============================================================\n",
            "\n",
            "Sistema de tamanho n = 5\n",
            "--------------------------------------------------\n",
            "Método                   Tempo (s)      Erro relativo\n",
            "Eliminação Gaussiana     4.1962e-05     3.43e-16\n",
            "numpy.linalg.solve       -              3.34e-16\n",
            "\n",
            "Sistema de tamanho n = 50\n",
            "--------------------------------------------------\n",
            "Método                   Tempo (s)      Erro relativo\n",
            "Eliminação Gaussiana     1.6990e-03     5.35e-16\n",
            "numpy.linalg.solve       -              3.09e-16\n",
            "\n",
            "Sistema de tamanho n = 500\n",
            "--------------------------------------------------\n",
            "Método                   Tempo (s)      Erro relativo\n",
            "Eliminação Gaussiana     1.6229e-01     1.34e-15\n",
            "numpy.linalg.solve       -              1.61e-15\n"
          ]
        }
      ],
      "source": [
        "print(\"=\"*60)\n",
        "print(\"Comparação: Eliminação Gaussiana vs Solução Exata (numpy)\")\n",
        "print(\"=\"*60)\n",
        "\n",
        "for n in systems:\n",
        "    A = systems[n]['A'].copy()\n",
        "    b = systems[n]['b'].copy()\n",
        "    x_true = systems[n]['x_true']\n",
        "\n",
        "    # Tempo da eliminação gaussiana\n",
        "    inicio = time.time()\n",
        "    x_gauss = eliminacao_gaussiana(A, b)\n",
        "    tempo_gauss = time.time() - inicio\n",
        "\n",
        "    # Solução exata com numpy para referência\n",
        "    x_np = np.linalg.solve(systems[n]['A'], systems[n]['b'])\n",
        "\n",
        "    # Erros relativos\n",
        "    erro_gauss = np.linalg.norm(x_gauss - x_true) / np.linalg.norm(x_true)\n",
        "    erro_numpy = np.linalg.norm(x_np - x_true) / np.linalg.norm(x_true)\n",
        "\n",
        "    print(f\"\\nSistema de tamanho n = {n}\")\n",
        "    print(\"-\" * 50)\n",
        "    print(f\"{'Método':<25}{'Tempo (s)':<15}{'Erro relativo'}\")\n",
        "    print(f\"{'Eliminação Gaussiana':<25}{tempo_gauss:<15.4e}{erro_gauss:.2e}\")\n",
        "    print(f\"{'numpy.linalg.solve':<25}{'-':<15}{erro_numpy:.2e}\")\n"
      ]
    },
    {
      "cell_type": "markdown",
      "metadata": {
        "id": "gaaqrf1-itqb"
      },
      "source": [
        "### Método de Jacobi"
      ]
    },
    {
      "cell_type": "code",
      "execution_count": 6,
      "metadata": {
        "id": "hopadPCUsPGx"
      },
      "outputs": [],
      "source": [
        "def metodo_jacobi(A, b, x_inicial=None, tol=1e-10, max_iter=1000):\n",
        "    n = len(b)\n",
        "    if x_inicial is None:\n",
        "        x = np.zeros(n)\n",
        "    else:\n",
        "        x = x_inicial.copy()\n",
        "\n",
        "    x_novo = np.zeros(n)\n",
        "    iteracoes = 0\n",
        "    inicio = time.time()\n",
        "\n",
        "    for k in range(max_iter):\n",
        "        for i in range(n):\n",
        "            soma = sum(A[i][j] * x[j] for j in range(n) if j != i)\n",
        "            x_novo[i] = (b[i] - soma) / A[i][i]\n",
        "\n",
        "        if np.linalg.norm(x_novo - x, ord=np.inf) < tol:\n",
        "            tempo_execucao = time.time() - inicio\n",
        "            return x_novo, iteracoes + 1, tempo_execucao\n",
        "\n",
        "        x[:] = x_novo[:]\n",
        "        iteracoes += 1\n",
        "\n",
        "    # Se não convergiu:\n",
        "    tempo_execucao = time.time() - inicio\n",
        "    raise Exception(f\"Jacobi não convergiu em {max_iter} iterações.\")\n"
      ]
    },
    {
      "cell_type": "code",
      "execution_count": 7,
      "metadata": {
        "colab": {
          "base_uri": "https://localhost:8080/"
        },
        "id": "0e9MR8yNsReV",
        "outputId": "bdd30d46-5091-411a-9db8-a3796a30cd69"
      },
      "outputs": [
        {
          "name": "stdout",
          "output_type": "stream",
          "text": [
            "==================================================\n",
            "Comparação: Método de Jacobi\n",
            "⚠ A Execução pode demorar. Há mensagens de erro para caso não haja conversão\n",
            "==================================================\n",
            "\n",
            "Sistema de tamanho n = 5\n",
            "--------------------------------------------------\n",
            "Método                   Tempo (s)      Iterações   Erro relativo\n",
            "Jacobi                   5.1284e-04     74          5.15e-09\n",
            "numpy.linalg.solve       -              -           3.34e-16\n",
            "\n",
            "Sistema de tamanho n = 50\n",
            "--------------------------------------------------\n",
            "Método                   Tempo (s)      Iterações   Erro relativo\n",
            "Jacobi                   2.8066e-01     747         7.36e-09\n",
            "numpy.linalg.solve       -              -           3.09e-16\n",
            "\n",
            "Sistema de tamanho n = 500\n",
            "--------------------------------------------------\n",
            "Erro: Jacobi não convergiu em 1000 iterações.\n"
          ]
        }
      ],
      "source": [
        "print(\"=\"*50)\n",
        "print(\"Comparação: Método de Jacobi\")\n",
        "print(\"⚠ A Execução pode demorar. Há mensagens de erro para caso não haja conversão\")\n",
        "print(\"=\"*50)\n",
        "\n",
        "for n in systems:\n",
        "    A = systems[n]['A']\n",
        "    b = systems[n]['b']\n",
        "    x_true = systems[n]['x_true']\n",
        "\n",
        "    print(f\"\\nSistema de tamanho n = {n}\")\n",
        "    print(\"-\" * 50)\n",
        "\n",
        "    if not matriz_diagonalmente_dominante(A):\n",
        "        print(\"Matriz não é diagonalmente dominante. Método de Jacobi não é garantido.\")\n",
        "        continue\n",
        "\n",
        "    try:\n",
        "        x_jacobi, iteracoes, tempo_jacobi = metodo_jacobi(A, b, tol=1e-8, max_iter=1000)\n",
        "        erro_jacobi = np.linalg.norm(x_jacobi - x_true) / np.linalg.norm(x_true)\n",
        "        erro_numpy = np.linalg.norm(np.linalg.solve(A, b) - x_true) / np.linalg.norm(x_true)\n",
        "\n",
        "        print(f\"{'Método':<25}{'Tempo (s)':<15}{'Iterações':<12}{'Erro relativo'}\")\n",
        "        print(f\"{'Jacobi':<25}{tempo_jacobi:<15.4e}{iteracoes:<12}{erro_jacobi:.2e}\")\n",
        "        print(f\"{'numpy.linalg.solve':<25}{'-':<15}{'-':<12}{erro_numpy:.2e}\")\n",
        "\n",
        "    except Exception as e:\n",
        "        print(f\"Erro: {e}\")"
      ]
    },
    {
      "cell_type": "markdown",
      "metadata": {
        "id": "JpOtejdguiRX"
      },
      "source": [
        "### Gauss-Seidel"
      ]
    },
    {
      "cell_type": "code",
      "execution_count": 8,
      "metadata": {
        "id": "j04yRUjvuhmr"
      },
      "outputs": [],
      "source": [
        "def metodo_gauss_seidel(A, b, x_inicial=None, tol=1e-10, max_iter=1000):\n",
        "    \"\"\"\n",
        "    Resolve o sistema Ax = b usando o método iterativo de Gauss-Seidel.\n",
        "    Retorna a solução aproximada, número de iterações e tempo de execução.\n",
        "    \"\"\"\n",
        "    n = len(b)\n",
        "    if x_inicial is None:\n",
        "        x = np.zeros(n)\n",
        "    else:\n",
        "        x = x_inicial.copy()\n",
        "\n",
        "    iteracoes = 0\n",
        "    inicio = time.time()\n",
        "\n",
        "    for k in range(max_iter):\n",
        "        x_antigo = x.copy()\n",
        "        for i in range(n):\n",
        "            soma1 = sum(A[i][j] * x[j] for j in range(i))\n",
        "            soma2 = sum(A[i][j] * x_antigo[j] for j in range(i + 1, n))\n",
        "            x[i] = (b[i] - soma1 - soma2) / A[i][i]\n",
        "\n",
        "        if np.linalg.norm(x - x_antigo, ord=np.inf) < tol:\n",
        "            tempo_execucao = time.time() - inicio\n",
        "            return x, iteracoes + 1, tempo_execucao\n",
        "\n",
        "        iteracoes += 1\n",
        "\n",
        "    tempo_execucao = time.time() - inicio\n",
        "    raise Exception(f\"Gauss-Seidel não convergiu em {max_iter} iterações.\")\n"
      ]
    },
    {
      "cell_type": "code",
      "execution_count": 9,
      "metadata": {
        "colab": {
          "base_uri": "https://localhost:8080/"
        },
        "id": "eY4o_kZqsc9N",
        "outputId": "7147d096-18c3-40f2-bf16-8b01088c055f"
      },
      "outputs": [
        {
          "name": "stdout",
          "output_type": "stream",
          "text": [
            "==================================================\n",
            "Comparação: Método de Gauss-Seidel\n",
            "==================================================\n",
            "\n",
            "Sistema de tamanho n = 5\n",
            "--------------------------------------------------\n",
            "Método                   Tempo (s)      Iterações   Erro relativo\n",
            "Gauss-Seidel             1.3185e-04     13          1.56e-09\n",
            "numpy.linalg.solve       -              -           3.34e-16\n",
            "\n",
            "Sistema de tamanho n = 50\n",
            "--------------------------------------------------\n",
            "Método                   Tempo (s)      Iterações   Erro relativo\n",
            "Gauss-Seidel             5.4271e-03     14          2.94e-10\n",
            "numpy.linalg.solve       -              -           3.09e-16\n",
            "\n",
            "Sistema de tamanho n = 500\n",
            "--------------------------------------------------\n",
            "Método                   Tempo (s)      Iterações   Erro relativo\n",
            "Gauss-Seidel             5.0860e-01     14          6.64e-10\n",
            "numpy.linalg.solve       -              -           1.61e-15\n"
          ]
        }
      ],
      "source": [
        "print(\"=\"*50)\n",
        "print(\"Comparação: Método de Gauss-Seidel\")\n",
        "print(\"=\"*50)\n",
        "\n",
        "for n in systems:\n",
        "    A = systems[n]['A']\n",
        "    b = systems[n]['b']\n",
        "    x_true = systems[n]['x_true']\n",
        "\n",
        "    print(f\"\\nSistema de tamanho n = {n}\")\n",
        "    print(\"-\" * 50)\n",
        "\n",
        "    if not matriz_diagonalmente_dominante(A):\n",
        "        print(\"Matriz não é diagonalmente dominante. Método de Gauss-Seidel não é garantido.\")\n",
        "        continue\n",
        "\n",
        "    try:\n",
        "        x_gs, iteracoes, tempo_gs = metodo_gauss_seidel(A, b, tol=1e-8, max_iter=1000)\n",
        "        erro_gs = np.linalg.norm(x_gs - x_true) / np.linalg.norm(x_true)\n",
        "        erro_numpy = np.linalg.norm(np.linalg.solve(A, b) - x_true) / np.linalg.norm(x_true)\n",
        "\n",
        "        print(f\"{'Método':<25}{'Tempo (s)':<15}{'Iterações':<12}{'Erro relativo'}\")\n",
        "        print(f\"{'Gauss-Seidel':<25}{tempo_gs:<15.4e}{iteracoes:<12}{erro_gs:.2e}\")\n",
        "        print(f\"{'numpy.linalg.solve':<25}{'-':<15}{'-':<12}{erro_numpy:.2e}\")\n",
        "\n",
        "    except Exception as e:\n",
        "        print(f\"Erro: {e}\")\n"
      ]
    },
    {
      "cell_type": "markdown",
      "metadata": {
        "id": "j3UNXDe9vAKm"
      },
      "source": [
        "### Comparação final"
      ]
    },
    {
      "cell_type": "code",
      "execution_count": 10,
      "metadata": {
        "id": "sSr1JQ7gu__-"
      },
      "outputs": [],
      "source": [
        "def imprimir_comparacao(n, resultados):\n",
        "    print(f\"\\nSistema de tamanho n = {n}\")\n",
        "    print(\"-\" * 70)\n",
        "    print(f\"{'Método':<25}{'Tempo (s)':<15}{'Iterações':<12}{'Erro relativo'}\")\n",
        "    for r in resultados:\n",
        "        tempo = f\"{r['tempo']:.4e}\" if r['tempo'] is not None else \"-\"\n",
        "        iteracoes = str(r['iteracoes']) if r['iteracoes'] is not None else \"-\"\n",
        "        print(f\"{r['nome']:<25}{tempo:<15}{iteracoes:<12}{r['erro']:.2e}\")\n"
      ]
    },
    {
      "cell_type": "code",
      "execution_count": null,
      "metadata": {
        "colab": {
          "base_uri": "https://localhost:8080/"
        },
        "id": "G2BDoT2mu_9y",
        "outputId": "dcb95389-595d-4b89-801d-165c2c7b94f2"
      },
      "outputs": [
        {
          "name": "stdout",
          "output_type": "stream",
          "text": [
            "============================================================\n",
            "COMPARATIVO FINAL DE MÉTODOS PARA SISTEMAS LINEARES\n",
            "============================================================\n",
            "\n",
            "Sistema de tamanho n = 5\n",
            "----------------------------------------------------------------------\n",
            "Método                   Tempo (s)      Iterações   Erro relativo\n",
            "Eliminação Gaussiana     4.1962e-05     -           3.43e-16\n",
            "Jacobi                   4.8685e-04     74          5.15e-09\n",
            "Gauss-Seidel             1.1587e-04     13          1.56e-09\n",
            "numpy.linalg.solve       2.4080e-05     -           3.34e-16\n",
            "\n",
            "Sistema de tamanho n = 50\n",
            "----------------------------------------------------------------------\n",
            "Método                   Tempo (s)      Iterações   Erro relativo\n",
            "Eliminação Gaussiana     1.5922e-03     -           5.35e-16\n",
            "Jacobi                   2.7953e-01     747         7.36e-09\n",
            "Gauss-Seidel             5.2409e-03     14          2.94e-10\n",
            "numpy.linalg.solve       6.2943e-05     -           3.09e-16\n",
            "\n",
            "Sistema de tamanho n = 500\n",
            "----------------------------------------------------------------------\n",
            "Método                   Tempo (s)      Iterações   Erro relativo\n",
            "Eliminação Gaussiana     1.6168e-01     -           1.34e-15\n",
            "Jacobi                   -              -           inf\n",
            "Gauss-Seidel             4.8405e-01     14          6.64e-10\n",
            "numpy.linalg.solve       1.0629e-03     -           1.61e-15\n"
          ]
        }
      ],
      "source": [
        "print(\"=\"*60)\n",
        "print(\"COMPARATIVO FINAL DE MÉTODOS PARA SISTEMAS LINEARES\")\n",
        "print(\"=\"*60)\n",
        "\n",
        "for n in systems:\n",
        "    A = systems[n]['A'].copy()\n",
        "    b = systems[n]['b'].copy()\n",
        "    x_true = systems[n]['x_true']\n",
        "    resultados = []\n",
        "\n",
        "    # Eliminação Gaussiana\n",
        "    try:\n",
        "        inicio = time.time()\n",
        "        x_gauss = eliminacao_gaussiana(A.copy(), b.copy())\n",
        "        tempo = time.time() - inicio\n",
        "        erro = np.linalg.norm(x_gauss - x_true) / np.linalg.norm(x_true)\n",
        "        resultados.append({'nome': 'Eliminação Gaussiana', 'tempo': tempo, 'iteracoes': None, 'erro': erro})\n",
        "    except Exception as e:\n",
        "        resultados.append({'nome': 'Eliminação Gaussiana', 'tempo': None, 'iteracoes': None, 'erro': np.inf})\n",
        "\n",
        "    # Jacobi\n",
        "    if matriz_diagonalmente_dominante(A):\n",
        "        try:\n",
        "            x_jacobi, it_jacobi, tempo_jacobi = metodo_jacobi(A.copy(), b.copy(), tol=1e-8, max_iter=1000)\n",
        "            erro_jacobi = np.linalg.norm(x_jacobi - x_true) / np.linalg.norm(x_true)\n",
        "            resultados.append({'nome': 'Jacobi', 'tempo': tempo_jacobi, 'iteracoes': it_jacobi, 'erro': erro_jacobi})\n",
        "        except Exception:\n",
        "            resultados.append({'nome': 'Jacobi', 'tempo': None, 'iteracoes': None, 'erro': np.inf})\n",
        "    else:\n",
        "        resultados.append({'nome': 'Jacobi', 'tempo': None, 'iteracoes': None, 'erro': np.inf})\n",
        "\n",
        "    # Gauss-Seidel\n",
        "    if matriz_diagonalmente_dominante(A):\n",
        "        try:\n",
        "            x_gs, it_gs, tempo_gs = metodo_gauss_seidel(A.copy(), b.copy(), tol=1e-8, max_iter=1000)\n",
        "            erro_gs = np.linalg.norm(x_gs - x_true) / np.linalg.norm(x_true)\n",
        "            resultados.append({'nome': 'Gauss-Seidel', 'tempo': tempo_gs, 'iteracoes': it_gs, 'erro': erro_gs})\n",
        "        except Exception:\n",
        "            resultados.append({'nome': 'Gauss-Seidel', 'tempo': None, 'iteracoes': None, 'erro': np.inf})\n",
        "    else:\n",
        "        resultados.append({'nome': 'Gauss-Seidel', 'tempo': None, 'iteracoes': None, 'erro': np.inf})\n",
        "\n",
        "    # numpy.linalg.solve\n",
        "    try:\n",
        "        inicio = time.time()\n",
        "        x_np = np.linalg.solve(A, b)\n",
        "        tempo_np = time.time() - inicio\n",
        "        erro_np = np.linalg.norm(x_np - x_true) / np.linalg.norm(x_true)\n",
        "        resultados.append({'nome': 'numpy.linalg.solve', 'tempo': tempo_np, 'iteracoes': None, 'erro': erro_np})\n",
        "    except Exception:\n",
        "        resultados.append({'nome': 'numpy.linalg.solve', 'tempo': None, 'iteracoes': None, 'erro': np.inf})\n",
        "\n",
        "    imprimir_comparacao(n, resultados)\n"
      ]
    },
    {
      "cell_type": "markdown",
      "metadata": {
        "id": "LksYgpxMwMst"
      },
      "source": [
        "## Parte 2: Interpolação Polinomial"
      ]
    },
    {
      "cell_type": "code",
      "execution_count": 12,
      "metadata": {
        "id": "2mAUjvIlxF1u"
      },
      "outputs": [],
      "source": [
        "def f(x):\n",
        "    return np.sin(2 * np.pi * x) + 0.2 * np.cos(4 * np.pi * x) + 0.1 * x"
      ]
    },
    {
      "cell_type": "code",
      "execution_count": null,
      "metadata": {
        "id": "sSPriFj6wP_b"
      },
      "outputs": [],
      "source": [
        "def gerar_dados():\n",
        "    # Conjunto 1: 10 pontos igualmente espaçados em [0, 1]\n",
        "    x1 = np.linspace(0, 1, 10)\n",
        "    y1 = f(x1)\n",
        "\n",
        "    # Conjunto 2: 20 pontos igualmente espaçados em [0, 1]\n",
        "    x2 = np.linspace(0, 1, 20)\n",
        "    y2 = f(x2)\n",
        "\n",
        "    # Conjunto 3: 15 pontos aleatórios em [0, 1]\n",
        "    np.random.seed(42)  # para reprodutibilidade\n",
        "    x3 = np.sort(np.random.rand(15))\n",
        "    y3 = f(x3)\n",
        "\n",
        "    return (x1, y1), (x2, y2), (x3, y3)\n"
      ]
    },
    {
      "cell_type": "code",
      "execution_count": 14,
      "metadata": {
        "id": "QZi5IUGDw6c2"
      },
      "outputs": [
        {
          "data": {
            "image/png": "[encoded data removed]",
            "text/plain": [
              "<Figure size 1200x400 with 3 Axes>"
            ]
          },
          "metadata": {},
          "output_type": "display_data"
        }
      ],
      "source": [
        "(x1, y1), (x2, y2), (x3, y3) = gerar_dados()\n",
        "\n",
        "plt.figure(figsize=(12, 4))\n",
        "\n",
        "for i, (x, y, titulo) in enumerate([\n",
        "    (x1, y1, \"Conjunto 1: 10 pontos espaçados\"),\n",
        "    (x2, y2, \"Conjunto 2: 20 pontos espaçados\"),\n",
        "    (x3, y3, \"Conjunto 3: 15 pontos aleatórios\")\n",
        "]):\n",
        "    plt.subplot(1, 3, i + 1)\n",
        "    plt.plot(x, y, 'o-', label='pontos')\n",
        "    plt.title(titulo)\n",
        "    plt.xlabel(\"x\")\n",
        "    plt.ylabel(\"f(x)\")\n",
        "    plt.grid(True)\n",
        "\n",
        "plt.tight_layout()\n",
        "plt.show()\n"
      ]
    },
    {
      "cell_type": "markdown",
      "metadata": {
        "id": "hreBeyZ-xzqd"
      },
      "source": [
        "### Lagrange"
      ]
    },
    {
      "cell_type": "code",
      "execution_count": 15,
      "metadata": {
        "id": "Ieg4lqEfxo7-"
      },
      "outputs": [],
      "source": [
        "def lagrange(x, y, x_interp):\n",
        "    \"\"\"\n",
        "    Interpola os pontos (x, y) usando o método de Lagrange.\n",
        "    Retorna os valores interpolados em x_interp.\n",
        "    \"\"\"\n",
        "    n = len(x)\n",
        "    y_interp = np.zeros_like(x_interp)\n",
        "\n",
        "    for k, xk in enumerate(x_interp):\n",
        "        soma = 0\n",
        "        for i in range(n):\n",
        "            termo = y[i]\n",
        "            for j in range(n):\n",
        "                if i != j:\n",
        "                    termo *= (xk - x[j]) / (x[i] - x[j])\n",
        "            soma += termo\n",
        "        y_interp[k] = soma\n",
        "\n",
        "    return y_interp\n"
      ]
    },
    {
      "cell_type": "markdown",
      "metadata": {
        "id": "x0CcNVkfx1ip"
      },
      "source": [
        "### Newton"
      ]
    },
    {
      "cell_type": "code",
      "execution_count": 16,
      "metadata": {
        "id": "h_0A3-8Bx2RZ"
      },
      "outputs": [],
      "source": [
        "def coeficientes_newton(x, y):\n",
        "    \"\"\"\n",
        "    Calcula os coeficientes do polinômio interpolador de Newton com diferenças divididas.\n",
        "    \"\"\"\n",
        "    n = len(x)\n",
        "    coef = np.copy(y).astype(float)\n",
        "\n",
        "    for j in range(1, n):\n",
        "        for i in range(n - 1, j - 1, -1):\n",
        "            coef[i] = (coef[i] - coef[i - 1]) / (x[i] - x[i - j])\n",
        "\n",
        "    return coef\n"
      ]
    },
    {
      "cell_type": "code",
      "execution_count": 17,
      "metadata": {
        "id": "DBJ54kUFx5Q2"
      },
      "outputs": [],
      "source": [
        "def newton(x, y, x_interp):\n",
        "    \"\"\"\n",
        "    Interpola os pontos (x, y) usando o método de Newton.\n",
        "    Retorna os valores interpolados em x_interp.\n",
        "    \"\"\"\n",
        "    coef = coeficientes_newton(x, y)\n",
        "    n = len(x)\n",
        "    y_interp = np.zeros_like(x_interp)\n",
        "\n",
        "    for k, xk in enumerate(x_interp):\n",
        "        termo = coef[-1]\n",
        "        for i in range(n - 2, -1, -1):\n",
        "            termo = termo * (xk - x[i]) + coef[i]\n",
        "        y_interp[k] = termo\n",
        "\n",
        "    return y_interp"
      ]
    },
    {
      "cell_type": "markdown",
      "metadata": {
        "id": "0PRaQY37yMRf"
      },
      "source": [
        "### Análise"
      ]
    },
    {
      "cell_type": "code",
      "execution_count": 18,
      "metadata": {
        "id": "AehmG3Jxx5xa"
      },
      "outputs": [],
      "source": [
        "import time\n",
        "\n",
        "def avaliar_interpolacoes(x, y, nome_conjunto):\n",
        "    \"\"\"\n",
        "    Compara os métodos de interpolação de Lagrange e Newton\n",
        "    para os dados (x, y) sobre 1000 pontos no intervalo [0, 1].\n",
        "    \"\"\"\n",
        "    print(f\"\\nAvaliação para {nome_conjunto}\")\n",
        "    print(\"=\" * 60)\n",
        "\n",
        "    # 1000 pontos de teste\n",
        "    x_interp = np.linspace(0, 1, 1000)\n",
        "    y_real = f(x_interp)\n",
        "\n",
        "    resultados = []\n",
        "\n",
        "    # --- LAGRANGE ---\n",
        "    inicio = time.perf_counter()\n",
        "    y_lagrange = lagrange(x, y, x_interp)\n",
        "    tempo_lagrange = time.perf_counter() - inicio\n",
        "\n",
        "    erro_abs_lagrange = np.abs(y_lagrange - y_real)\n",
        "    erro_max_lagrange = np.max(erro_abs_lagrange)\n",
        "    erro_medio_lagrange = np.mean(erro_abs_lagrange)\n",
        "\n",
        "    resultados.append({\n",
        "        'nome': 'Lagrange',\n",
        "        'tempo': tempo_lagrange,\n",
        "        'erro_max': erro_max_lagrange,\n",
        "        'erro_medio': erro_medio_lagrange\n",
        "    })\n",
        "\n",
        "    # --- NEWTON ---\n",
        "    inicio = time.perf_counter()\n",
        "    y_newton = newton(x, y, x_interp)\n",
        "    tempo_newton = time.perf_counter() - inicio\n",
        "\n",
        "    erro_abs_newton = np.abs(y_newton - y_real)\n",
        "    erro_max_newton = np.max(erro_abs_newton)\n",
        "    erro_medio_newton = np.mean(erro_abs_newton)\n",
        "\n",
        "    resultados.append({\n",
        "        'nome': 'Newton',\n",
        "        'tempo': tempo_newton,\n",
        "        'erro_max': erro_max_newton,\n",
        "        'erro_medio': erro_medio_newton\n",
        "    })\n",
        "\n",
        "    # --- Imprimir resultados ---\n",
        "    print(f\"{'Método':<15}{'Tempo (s)':<15}{'Erro Máx':<15}{'Erro Médio'}\")\n",
        "    for r in resultados:\n",
        "        print(f\"{r['nome']:<15}{r['tempo']:<15.4e}{r['erro_max']:<15.4e}{r['erro_medio']:.4e}\")\n"
      ]
    },
    {
      "cell_type": "code",
      "execution_count": 19,
      "metadata": {
        "id": "YmoZf9uyyTA3"
      },
      "outputs": [
        {
          "name": "stdout",
          "output_type": "stream",
          "text": [
            "\n",
            "Avaliação para Conjunto 1 (10 pontos espaçados)\n",
            "============================================================\n",
            "Método         Tempo (s)      Erro Máx       Erro Médio\n",
            "Lagrange       1.6276e-02     2.7007e-02     4.5190e-03\n",
            "Newton         1.2307e-03     2.7007e-02     4.5190e-03\n",
            "\n",
            "Avaliação para Conjunto 2 (20 pontos espaçados)\n",
            "============================================================\n",
            "Método         Tempo (s)      Erro Máx       Erro Médio\n",
            "Lagrange       6.3092e-02     1.6746e-07     1.0133e-08\n",
            "Newton         2.2669e-03     1.6746e-07     1.0133e-08\n",
            "\n",
            "Avaliação para Conjunto 3 (15 pontos aleatórios)\n",
            "============================================================\n",
            "Método         Tempo (s)      Erro Máx       Erro Médio\n",
            "Lagrange       3.4995e-02     9.8353e-05     2.0351e-06\n",
            "Newton         1.7275e-03     9.8353e-05     2.0351e-06\n"
          ]
        }
      ],
      "source": [
        "(x1, y1), (x2, y2), (x3, y3) = gerar_dados()\n",
        "\n",
        "avaliar_interpolacoes(x1, y1, \"Conjunto 1 (10 pontos espaçados)\")\n",
        "avaliar_interpolacoes(x2, y2, \"Conjunto 2 (20 pontos espaçados)\")\n",
        "avaliar_interpolacoes(x3, y3, \"Conjunto 3 (15 pontos aleatórios)\")\n"
      ]
    }
  ],
  "metadata": {
    "colab": {
      "provenance": []
    },
    "kernelspec": {
      "display_name": "Python 3",
      "name": "python3"
    },
    "language_info": {
      "codemirror_mode": {
        "name": "ipython",
        "version": 3
      },
      "file_extension": ".py",
      "mimetype": "text/x-python",
      "name": "python",
      "nbconvert_exporter": "python",
      "pygments_lexer": "ipython3",
      "version": "3.9.6"
    }
  },
  "nbformat": 4,
  "nbformat_minor": 0
}
